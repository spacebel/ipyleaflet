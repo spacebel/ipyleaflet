{
 "cells": [
  {
   "cell_type": "markdown",
   "metadata": {},
   "source": [
    "## Set-up Imports and variables"
   ]
  },
  {
   "cell_type": "code",
   "execution_count": 2,
   "metadata": {},
   "outputs": [],
   "source": [
    "import json, requests\n",
    "catalogueEndpoint = 'http://databio.spacebel.be/eo-catalog'\n",
    "collection= 'EOP:SENTINEL-HUB:Sentinel2'\n",
    "querystring = {}"
   ]
  },
  {
   "cell_type": "markdown",
   "metadata": {},
   "source": [
    "## Query Catalogue"
   ]
  },
  {
   "cell_type": "code",
   "execution_count": 3,
   "metadata": {},
   "outputs": [
    {
     "name": "stdout",
     "output_type": "stream",
     "text": [
      "Collection:EOP:SENTINEL-HUB:Sentinel2\n",
      "Product:57a8af49-5c21-5460-8d82-2605311dee44\n",
      "Product Information (JSON):\n",
      "{\n",
      "  \"cloudCover\": 0.71,\n",
      "  \"productType\": \"S2MSI1C\",\n",
      "  \"availabilityTime\": \"2018-10-30T11:34:24Z\"\n",
      "}\n"
     ]
    }
   ],
   "source": [
    "\n",
    "\n",
    "querystring['startDate'] = '2018-10-01'\n",
    "querystring['endDate'] = '2018-11-01'\n",
    "querystring['bbox'] = '-10,40,10,60'\n",
    "url = catalogueEndpoint +'/resources/'+ collection + '/datasets/'\n",
    "response = requests.get(url, params=querystring)\n",
    "products = json.loads(response.text)['features'] \n",
    "print('Collection:'+products[0]['properties']['parentIdentifier'])\n",
    "print('Product:'+products[0]['properties']['productId'])\n",
    "print('Product Information (JSON):')\n",
    "print(json.dumps(products[0]['properties']['productInformation'],indent=2))\n",
    "# print(json.dumps(products[0]['geometry'],indent=2))\n"
   ]
  },
  {
   "cell_type": "markdown",
   "metadata": {},
   "source": [
    "## Display the product geometry on a Map"
   ]
  },
  {
   "cell_type": "code",
   "execution_count": 4,
   "metadata": {},
   "outputs": [
    {
     "data": {
      "application/vnd.jupyter.widget-view+json": {
       "model_id": "8ecc69af4ba745b2a816dc8ec77a8a35",
       "version_major": 2,
       "version_minor": 0
      },
      "text/plain": [
       "Map(basemap={'url': 'https://{s}.tile.openstreetmap.org/{z}/{x}/{y}.png', 'max_zoom': 19, 'attribution': 'Map …"
      ]
     },
     "metadata": {},
     "output_type": "display_data"
    }
   ],
   "source": [
    "from ipyleaflet import Map, GeoJSON\n",
    "import json\n",
    "import os\n",
    "import requests\n",
    "\n",
    "m = Map(center=(50.6252978589571, -1.80993652344), zoom=7)\n",
    "geo_json = GeoJSON(data=products[0]['geometry'], style = {'color': 'green', 'opacity':1, 'weight':1.9, 'dashArray':'9', 'fillOpacity':0.1})\n",
    "m.add_layer(geo_json)\n",
    "\n",
    "m"
   ]
  },
  {
   "cell_type": "code",
   "execution_count": null,
   "metadata": {},
   "outputs": [],
   "source": []
  },
  {
   "cell_type": "code",
   "execution_count": null,
   "metadata": {},
   "outputs": [],
   "source": []
  },
  {
   "cell_type": "code",
   "execution_count": null,
   "metadata": {},
   "outputs": [],
   "source": []
  }
 ],
 "metadata": {
  "kernelspec": {
   "display_name": "Python 3",
   "language": "python",
   "name": "python3"
  },
  "language_info": {
   "codemirror_mode": {
    "name": "ipython",
    "version": 3
   },
   "file_extension": ".py",
   "mimetype": "text/x-python",
   "name": "python",
   "nbconvert_exporter": "python",
   "pygments_lexer": "ipython3",
   "version": "3.7.3"
  }
 },
 "nbformat": 4,
 "nbformat_minor": 2
}
